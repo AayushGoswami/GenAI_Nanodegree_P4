{
 "cells": [
  {
   "cell_type": "markdown",
   "id": "429ec703",
   "metadata": {},
   "source": [
    "# 🏠 HomeMatch Tutorial: Personalized Real Estate Listings with LLMs + ChromaDB\n",
    "**Welcome!** This notebook will guide you through building a fully working, AI-powered real estate personalization app — *HomeMatch*. We’ll use GPT-3.5 (via OpenAI API) and ChromaDB to semantically match property listings to user preferences and rewrite them with a personal touch."
   ]
  },
  {
   "cell_type": "markdown",
   "id": "65739af2",
   "metadata": {},
   "source": [
    "## 🔧 Step 1: Install and Import Dependencies"
   ]
  },
  {
   "cell_type": "code",
   "execution_count": 1,
   "id": "7c0fff3b",
   "metadata": {},
   "outputs": [
    {
     "name": "stdout",
     "output_type": "stream",
     "text": [
      "Note: you may need to restart the kernel to use updated packages.\n"
     ]
    }
   ],
   "source": [
    "%pip install --quiet langchain openai chromadb sentence-transformers ipywidgets transformers tiktoken"
   ]
  },
  {
   "cell_type": "code",
   "execution_count": null,
   "id": "1dd4669d",
   "metadata": {},
   "outputs": [
    {
     "data": {
      "text/plain": [
       "{'status': 'ok', 'restart': True}"
      ]
     },
     "execution_count": 2,
     "metadata": {},
     "output_type": "execute_result"
    },
    {
     "ename": "",
     "evalue": "",
     "output_type": "error",
     "traceback": [
      "\u001b[1;31mThe Kernel crashed while executing code in the current cell or a previous cell. \n",
      "\u001b[1;31mPlease review the code in the cell(s) to identify a possible cause of the failure. \n",
      "\u001b[1;31mClick <a href='https://aka.ms/vscodeJupyterKernelCrash'>here</a> for more info. \n",
      "\u001b[1;31mView Jupyter <a href='command:jupyter.viewOutput'>log</a> for further details."
     ]
    }
   ],
   "source": [
    "import IPython\n",
    "\n",
    "IPython.get_ipython().kernel.do_shutdown(restart=True)"
   ]
  },
  {
   "cell_type": "code",
   "execution_count": 1,
   "id": "bfcb1e94",
   "metadata": {},
   "outputs": [],
   "source": [
    "import os, json\n",
    "import openai\n",
    "import ipywidgets as widgets\n",
    "from IPython.display import display, Markdown\n",
    "from sentence_transformers import SentenceTransformer\n",
    "import chromadb\n",
    "from langchain.chat_models import ChatOpenAI\n",
    "from langchain.schema import HumanMessage"
   ]
  },
  {
   "cell_type": "markdown",
   "id": "09c5ec42",
   "metadata": {},
   "source": [
    "## 🔐 Step 2: Set OpenAI API Key (Vocareum)"
   ]
  },
  {
   "cell_type": "code",
   "execution_count": null,
   "id": "34d8d4fd",
   "metadata": {},
   "outputs": [],
   "source": [
    "# Replace with your actual Vocareum API key\n",
    "openai.api_base = \"https://openai.vocareum.com/v1\"\n",
    "openai.api_key = \"<YOUR_API_KEY>\"  # Replace with your actual API key\n",
    "os.environ[\"OPENAI_API_KEY\"] = openai.api_key  \n",
    "os.environ[\"OPENAI_API_BASE\"] = openai.api_base\n"
   ]
  },
  {
   "cell_type": "markdown",
   "id": "2e591ab6",
   "metadata": {},
   "source": [
    "## 🤖 Step 3: Define the GPT-3.5 LLM Client"
   ]
  },
  {
   "cell_type": "code",
   "execution_count": 3,
   "id": "3f593af6",
   "metadata": {},
   "outputs": [],
   "source": [
    "class LLMClient:\n",
    "    def __init__(self, temperature=0.7):\n",
    "        self.llm = ChatOpenAI(model_name=\"gpt-3.5-turbo\", temperature=temperature)\n",
    "    def ask(self, prompt):\n",
    "        return self.llm([HumanMessage(content=prompt)]).content"
   ]
  },
  {
   "cell_type": "markdown",
   "id": "5e6e5333",
   "metadata": {},
   "source": [
    "## 🏡 Step 4: Generate Real Estate Listings"
   ]
  },
  {
   "cell_type": "code",
   "execution_count": 6,
   "id": "f0002b91",
   "metadata": {},
   "outputs": [
    {
     "name": "stdout",
     "output_type": "stream",
     "text": [
      "✅ Listings saved to Listings.txt\n",
      "Neighborhood: Downtown\n",
      "Price: $1,200,000\n",
      "Bedrooms: 2\n",
      "Bathrooms: 2.5\n",
      "House Size: 1,800 sqft\n",
      "Description: Live in luxury at this sleek modern condo in the heart of Downtown. This 2-bedroom, 2.5-bathroom unit features high-end finishes, floor-to-ceiling windows with panoramic city views, and a gourmet kitchen with top-of-the-line appliances. Enjoy the convenience of walking to the trendiest restaurants, shops, and entertainment venues in the city. Experience urban living at its finest in this Downtown gem.\n",
      "Neighborhood Description: Downtown is a bustling neighborhood with a vibrant nightlife, cultural attractions, and easy access to public transportation. Residents can enjoy a variety of dining options, art galleries, and theaters within walking distance. Experience the pulse of the city in this dynamic neighborhood.\n",
      "\n",
      "Neighborhood: Lakeview\n",
      "Price: $900,000\n",
      "Bedrooms: 4\n",
      "Bathrooms: 3\n",
      "House Size: 2,500 sqft\n",
      "Description: Welcome home to this charming 4-bedroom, 3-bathroom house in the desirabl\n",
      "✅ Converted 17 listings and saved to listings.json\n"
     ]
    }
   ],
   "source": [
    "llm = LLMClient()\n",
    "LISTINGS_PATH = \"listings.json\"\n",
    "prompt = '''Generate exactly 20 diverse real estate property listings. Each listing must be formatted exactly like this:\n",
    "\n",
    "Neighborhood: [name]\n",
    "Price: [$amount]\n",
    "Bedrooms: [number]\n",
    "Bathrooms: [number]\n",
    "House Size: [area in sqft]\n",
    "Description: [3–5 sentence paragraph]\n",
    "Neighborhood Description: [2–4 sentence paragraph]\n",
    "\n",
    "One example is given to you for your reference:\n",
    "\n",
    "Neighborhood: Green Oaks\n",
    "Price: $800,000\n",
    "Bedrooms: 3\n",
    "Bathrooms: 2\n",
    "House Size: 2,000 sqft\n",
    "Description: Welcome to this eco-friendly oasis nestled in the heart of Green Oaks. This charming 3-bedroom, 2-bathroom home boasts energy-efficient features such as solar panels and a well-insulated structure. Natural light floods the living spaces, highlighting the beautiful hardwood floors and eco-conscious finishes. The open-concept kitchen and dining area lead to a spacious backyard with a vegetable garden, perfect for the eco-conscious family. Embrace sustainable living without compromising on style in this Green Oaks gem.\n",
    "Neighborhood Description: Green Oaks is a close-knit, environmentally-conscious community with access to organic grocery stores, community gardens, and bike paths. Take a stroll through the nearby Green Oaks Park or grab a cup of coffee at the cozy Green Bean Cafe. With easy access to public transportation and bike lanes, commuting is a breeze.\n",
    "\n",
    "Separate each listing with a blank line. Output raw plain text only.'''\n",
    "\n",
    "raw_text = llm.ask(prompt).strip()\n",
    "\n",
    "# Save the generated listings to a text file\n",
    "with open(\"Listings.txt\", \"w\") as f:\n",
    "    f.write(raw_text)\n",
    "print(\"✅ Listings saved to Listings.txt\")\n",
    "print(raw_text[:1000])  # Preview first few lines\n",
    "listings = []\n",
    "blocks = raw_text.strip().split(\"\\n\\n\")  # Each listing is a block\n",
    "\n",
    "for block in blocks:\n",
    "    lines = block.strip().split(\"\\n\")\n",
    "    if len(lines) != 7:\n",
    "        print(f\"⚠️ Skipping invalid block:\\n{block}\\n\")\n",
    "        continue\n",
    "\n",
    "    listing = {}\n",
    "\n",
    "    for line in lines:\n",
    "        key, value = line.split(\":\", 1)\n",
    "        key = key.strip().lower().replace(\" \", \"_\")  # Normalize\n",
    "        value = value.strip()\n",
    "        listing[key] = value\n",
    "\n",
    "    listings.append(listing)\n",
    "\n",
    "# Save as JSON\n",
    "with open(LISTINGS_PATH, \"w\") as f:\n",
    "    json.dump(listings, f, indent=2)\n",
    "\n",
    "print(f\"✅ Converted {len(listings)} listings and saved to {LISTINGS_PATH}\")\n"
   ]
  },
  {
   "cell_type": "markdown",
   "id": "4ead1368",
   "metadata": {},
   "source": [
    "## 🧠 Step 5: Create ChromaDB and Embed Listings"
   ]
  },
  {
   "cell_type": "code",
   "execution_count": 11,
   "id": "baeea346",
   "metadata": {},
   "outputs": [
    {
     "name": "stderr",
     "output_type": "stream",
     "text": [
      "Failed to send telemetry event client_start: capture() takes 1 positional argument but 3 were given\n",
      "Failed to send telemetry event collection_add: capture() takes 1 positional argument but 3 were given\n",
      "Failed to send telemetry event collection_add: capture() takes 1 positional argument but 3 were given\n",
      "Failed to send telemetry event collection_add: capture() takes 1 positional argument but 3 were given\n",
      "Failed to send telemetry event collection_add: capture() takes 1 positional argument but 3 were given\n",
      "Failed to send telemetry event collection_add: capture() takes 1 positional argument but 3 were given\n",
      "Failed to send telemetry event collection_add: capture() takes 1 positional argument but 3 were given\n",
      "Failed to send telemetry event collection_add: capture() takes 1 positional argument but 3 were given\n",
      "Failed to send telemetry event collection_add: capture() takes 1 positional argument but 3 were given\n",
      "Failed to send telemetry event collection_add: capture() takes 1 positional argument but 3 were given\n",
      "Failed to send telemetry event collection_add: capture() takes 1 positional argument but 3 were given\n",
      "Failed to send telemetry event collection_add: capture() takes 1 positional argument but 3 were given\n",
      "Failed to send telemetry event collection_add: capture() takes 1 positional argument but 3 were given\n",
      "Failed to send telemetry event collection_add: capture() takes 1 positional argument but 3 were given\n",
      "Failed to send telemetry event collection_add: capture() takes 1 positional argument but 3 were given\n",
      "Failed to send telemetry event collection_add: capture() takes 1 positional argument but 3 were given\n",
      "Failed to send telemetry event collection_add: capture() takes 1 positional argument but 3 were given\n",
      "Failed to send telemetry event collection_add: capture() takes 1 positional argument but 3 were given\n"
     ]
    }
   ],
   "source": [
    "db = chromadb.PersistentClient(path=\"chroma_store\")\n",
    "collection_name = \"real_estate\"\n",
    "try:\n",
    "    db.delete_collection(collection_name)\n",
    "except:\n",
    "    pass\n",
    "col = db.get_or_create_collection(collection_name)\n",
    "model = SentenceTransformer(\"all-MiniLM-L6-v2\")\n",
    "with open(LISTINGS_PATH) as f:\n",
    "    listings = json.load(f)\n",
    "for idx, listing in enumerate(listings):\n",
    "    text = listing[\"neighborhood\"] + \"\\n\" + listing[\"house_size\"] + \"\\n\" + listing[\"description\"] + \"\\n\" + listing[\"neighborhood_description\"]\n",
    "    vec = model.encode(text).tolist()\n",
    "    col.add(documents=[text], metadatas=[listing], ids=[f\"listing-{idx}\"], embeddings=[vec])"
   ]
  },
  {
   "cell_type": "markdown",
   "id": "2acb87ca",
   "metadata": {},
   "source": [
    "## 🧍 Step 6: Collect Buyer Preferences"
   ]
  },
  {
   "cell_type": "code",
   "execution_count": null,
   "id": "18ccd8f0",
   "metadata": {},
   "outputs": [
    {
     "data": {
      "application/vnd.jupyter.widget-view+json": {
       "model_id": "d2ff996a1b594ec4a7425c8bd92b69aa",
       "version_major": 2,
       "version_minor": 0
      },
      "text/plain": [
       "VBox(children=(Textarea(value='', placeholder='How big do you want your house to be?'), Textarea(value='', pla…"
      ]
     },
     "metadata": {},
     "output_type": "display_data"
    },
    {
     "data": {
      "text/markdown": [
       "### ✅ Preferences captured. Proceed to search."
      ],
      "text/plain": [
       "<IPython.core.display.Markdown object>"
      ]
     },
     "metadata": {},
     "output_type": "display_data"
    }
   ],
   "source": [
    "questions = [\n",
    "    \"How big do you want your house to be?\",\n",
    "    \"What are 3 most important things for you in choosing this property? (Separate with commas)\",\n",
    "    \"Which amenities would you like? (e.g., pool, gym, garden)\",\n",
    "    \"Which transportation options are important to you? (e.g., bus, subway, car)\",\n",
    "    \"How urban do you want your neighborhood to be? (Enter a number from 1 to 10, where 1 is rural and 10 is urban)\",\n",
    "]\n",
    "inputs = [widgets.Textarea(placeholder=q) for q in questions]\n",
    "submit = widgets.Button(description=\"Find Homes 🏡\")\n",
    "box = widgets.VBox(inputs + [submit])\n",
    "display(box)\n",
    "user_preferences = {}\n",
    "def on_submit(b):\n",
    "    for i, input_box in enumerate(inputs):\n",
    "        user_preferences[questions[i]] = input_box.value\n",
    "    display(Markdown(\"### ✅ Preferences captured. Proceed to search.\"))\n",
    "submit.on_click(on_submit)"
   ]
  },
  {
   "cell_type": "markdown",
   "id": "e84b39a5",
   "metadata": {},
   "source": [
    "## 🔍 Step 7: Semantic Search for Matching Listings"
   ]
  },
  {
   "cell_type": "code",
   "execution_count": 13,
   "id": "d047c7c0",
   "metadata": {},
   "outputs": [],
   "source": [
    "# Run this AFTER submitting preferences\n",
    "if user_preferences:\n",
    "    query_text = \" \".join(user_preferences.values())\n",
    "    vec = model.encode(query_text).tolist()\n",
    "    results = col.query(query_embeddings=[vec], n_results=5, include=[\"metadatas\"])\n",
    "    matched = results[\"metadatas\"][0]"
   ]
  },
  {
   "cell_type": "markdown",
   "id": "238f87db",
   "metadata": {},
   "source": [
    "## ✍️ Step 8: Personalize Listings with GPT"
   ]
  },
  {
   "cell_type": "code",
   "execution_count": 14,
   "id": "c266282e",
   "metadata": {},
   "outputs": [],
   "source": [
    "personalized = []\n",
    "for listing in matched:\n",
    "    prompt = f'''\n",
    "You are a real estate agent personalizing listings.\n",
    "Buyer's Preferences:\n",
    "{query_text}\n",
    "\n",
    "Original Listing:\n",
    "{listing['description']}\n",
    "\n",
    "Neighborhood:\n",
    "{listing['neighborhood_description']}\n",
    "\n",
    "Rewrite the listing to emphasize the buyer's preferences.\n",
    "'''\n",
    "    new_text = llm.ask(prompt)\n",
    "    personalized.append((listing, new_text))"
   ]
  },
  {
   "cell_type": "markdown",
   "id": "824efb5a",
   "metadata": {},
   "source": [
    "## 🖨️ Step 9: Display Personalized Listings"
   ]
  },
  {
   "cell_type": "code",
   "execution_count": 15,
   "id": "fdd3cef7",
   "metadata": {},
   "outputs": [
    {
     "data": {
      "text/markdown": [
       "### **🏘️ Listing 1**"
      ],
      "text/plain": [
       "<IPython.core.display.Markdown object>"
      ]
     },
     "metadata": {},
     "output_type": "display_data"
    },
    {
     "data": {
      "text/markdown": [
       "**About the Property:**\n",
       "\n",
       "Live in luxury and enjoy resort-style amenities at this stunning 2500 sqft condo in a semi-urban setting. This 2-bedroom, 2.5-bathroom unit boasts a swimming pool, play area, community gym, sports facilities, and a library. With floor-to-ceiling windows offering panoramic views, a gourmet kitchen with top-of-the-line appliances, and easy access to bus and train stations, this condo is perfect for those seeking convenience and a vibrant lifestyle. Experience the best of both worlds in this sleek modern condo located in a dynamic neighborhood with endless entertainment options."
      ],
      "text/plain": [
       "<IPython.core.display.Markdown object>"
      ]
     },
     "metadata": {},
     "output_type": "display_data"
    },
    {
     "data": {
      "text/markdown": [
       "**Details:**"
      ],
      "text/plain": [
       "<IPython.core.display.Markdown object>"
      ]
     },
     "metadata": {},
     "output_type": "display_data"
    },
    {
     "data": {
      "text/markdown": [
       "**Neighborhood:** Downtown"
      ],
      "text/plain": [
       "<IPython.core.display.Markdown object>"
      ]
     },
     "metadata": {},
     "output_type": "display_data"
    },
    {
     "data": {
      "text/markdown": [
       "**Price:** $1,200,000"
      ],
      "text/plain": [
       "<IPython.core.display.Markdown object>"
      ]
     },
     "metadata": {},
     "output_type": "display_data"
    },
    {
     "data": {
      "text/markdown": [
       "**Bedrooms:** 2"
      ],
      "text/plain": [
       "<IPython.core.display.Markdown object>"
      ]
     },
     "metadata": {},
     "output_type": "display_data"
    },
    {
     "data": {
      "text/markdown": [
       "**Bathrooms:** 2.5"
      ],
      "text/plain": [
       "<IPython.core.display.Markdown object>"
      ]
     },
     "metadata": {},
     "output_type": "display_data"
    },
    {
     "data": {
      "text/markdown": [
       "**House size:** 1,800 sqft"
      ],
      "text/plain": [
       "<IPython.core.display.Markdown object>"
      ]
     },
     "metadata": {},
     "output_type": "display_data"
    },
    {
     "data": {
      "text/markdown": [
       "### **🏘️ Listing 2**"
      ],
      "text/plain": [
       "<IPython.core.display.Markdown object>"
      ]
     },
     "metadata": {},
     "output_type": "display_data"
    },
    {
     "data": {
      "text/markdown": [
       "**About the Property:**\n",
       "\n",
       "Step into luxury living in this stunning 4-bedroom, 3-bathroom home boasting over 2500 sqft of living space. Dive into the refreshing swimming pool or relax in the play area and community gym. Enjoy a game of sports in the neighborhood fields or unwind with a good book from the library. With easy access to public transportation including buses and trains, this semi-urban oasis in Suburbia Heights is the perfect blend of convenience and leisure. Live your best life in this sought-after neighborhood where every day feels like a vacation."
      ],
      "text/plain": [
       "<IPython.core.display.Markdown object>"
      ]
     },
     "metadata": {},
     "output_type": "display_data"
    },
    {
     "data": {
      "text/markdown": [
       "**Details:**"
      ],
      "text/plain": [
       "<IPython.core.display.Markdown object>"
      ]
     },
     "metadata": {},
     "output_type": "display_data"
    },
    {
     "data": {
      "text/markdown": [
       "**Neighborhood:** Suburbia Heights"
      ],
      "text/plain": [
       "<IPython.core.display.Markdown object>"
      ]
     },
     "metadata": {},
     "output_type": "display_data"
    },
    {
     "data": {
      "text/markdown": [
       "**Price:** $650,000"
      ],
      "text/plain": [
       "<IPython.core.display.Markdown object>"
      ]
     },
     "metadata": {},
     "output_type": "display_data"
    },
    {
     "data": {
      "text/markdown": [
       "**Bedrooms:** 4"
      ],
      "text/plain": [
       "<IPython.core.display.Markdown object>"
      ]
     },
     "metadata": {},
     "output_type": "display_data"
    },
    {
     "data": {
      "text/markdown": [
       "**Bathrooms:** 3"
      ],
      "text/plain": [
       "<IPython.core.display.Markdown object>"
      ]
     },
     "metadata": {},
     "output_type": "display_data"
    },
    {
     "data": {
      "text/markdown": [
       "**House size:** 2,400 sqft"
      ],
      "text/plain": [
       "<IPython.core.display.Markdown object>"
      ]
     },
     "metadata": {},
     "output_type": "display_data"
    },
    {
     "data": {
      "text/markdown": [
       "### **🏘️ Listing 3**"
      ],
      "text/plain": [
       "<IPython.core.display.Markdown object>"
      ]
     },
     "metadata": {},
     "output_type": "display_data"
    },
    {
     "data": {
      "text/markdown": [
       "**About the Property:**\n",
       "\n",
       "Welcome to your dream home in the vibrant Midtown neighborhood! This spacious 3-bedroom, 2.5-bathroom townhouse offers 2500 sqft of modern living space. Relax and unwind in your very own swimming pool, play area, and community gym. Stay active with sports facilities and a library right at your doorstep. \n",
       "\n",
       "With easy access to bus and train stations, this semi-urban oasis is perfect for those looking for convenience and a dynamic lifestyle. Don't miss out on the opportunity to call this stylish townhouse your new home!"
      ],
      "text/plain": [
       "<IPython.core.display.Markdown object>"
      ]
     },
     "metadata": {},
     "output_type": "display_data"
    },
    {
     "data": {
      "text/markdown": [
       "**Details:**"
      ],
      "text/plain": [
       "<IPython.core.display.Markdown object>"
      ]
     },
     "metadata": {},
     "output_type": "display_data"
    },
    {
     "data": {
      "text/markdown": [
       "**Neighborhood:** Midtown"
      ],
      "text/plain": [
       "<IPython.core.display.Markdown object>"
      ]
     },
     "metadata": {},
     "output_type": "display_data"
    },
    {
     "data": {
      "text/markdown": [
       "**Price:** $700,000"
      ],
      "text/plain": [
       "<IPython.core.display.Markdown object>"
      ]
     },
     "metadata": {},
     "output_type": "display_data"
    },
    {
     "data": {
      "text/markdown": [
       "**Bedrooms:** 3"
      ],
      "text/plain": [
       "<IPython.core.display.Markdown object>"
      ]
     },
     "metadata": {},
     "output_type": "display_data"
    },
    {
     "data": {
      "text/markdown": [
       "**Bathrooms:** 2.5"
      ],
      "text/plain": [
       "<IPython.core.display.Markdown object>"
      ]
     },
     "metadata": {},
     "output_type": "display_data"
    },
    {
     "data": {
      "text/markdown": [
       "**House size:** 2,100 sqft"
      ],
      "text/plain": [
       "<IPython.core.display.Markdown object>"
      ]
     },
     "metadata": {},
     "output_type": "display_data"
    },
    {
     "data": {
      "text/markdown": [
       "### **🏘️ Listing 4**"
      ],
      "text/plain": [
       "<IPython.core.display.Markdown object>"
      ]
     },
     "metadata": {},
     "output_type": "display_data"
    },
    {
     "data": {
      "text/markdown": [
       "**About the Property:**\n",
       "\n",
       "Welcome to your dream home in the heart of Riverside, where you can enjoy 2500 sqft of luxurious living space. This 4-bedroom, 3.5-bathroom house boasts a swimming pool, play area, and community gym for all your fitness needs. The neighborhood offers sports facilities, a library, and easy access to public transportation via bus and train. Nestled in a semi-urban setting, this home is perfect for those who crave both convenience and tranquility. Don't miss out on the opportunity to live in this vibrant and active community that has something for everyone. Schedule a showing today and make this your forever home!"
      ],
      "text/plain": [
       "<IPython.core.display.Markdown object>"
      ]
     },
     "metadata": {},
     "output_type": "display_data"
    },
    {
     "data": {
      "text/markdown": [
       "**Details:**"
      ],
      "text/plain": [
       "<IPython.core.display.Markdown object>"
      ]
     },
     "metadata": {},
     "output_type": "display_data"
    },
    {
     "data": {
      "text/markdown": [
       "**Neighborhood:** Riverside"
      ],
      "text/plain": [
       "<IPython.core.display.Markdown object>"
      ]
     },
     "metadata": {},
     "output_type": "display_data"
    },
    {
     "data": {
      "text/markdown": [
       "**Price:** $850,000"
      ],
      "text/plain": [
       "<IPython.core.display.Markdown object>"
      ]
     },
     "metadata": {},
     "output_type": "display_data"
    },
    {
     "data": {
      "text/markdown": [
       "**Bedrooms:** 4"
      ],
      "text/plain": [
       "<IPython.core.display.Markdown object>"
      ]
     },
     "metadata": {},
     "output_type": "display_data"
    },
    {
     "data": {
      "text/markdown": [
       "**Bathrooms:** 3.5"
      ],
      "text/plain": [
       "<IPython.core.display.Markdown object>"
      ]
     },
     "metadata": {},
     "output_type": "display_data"
    },
    {
     "data": {
      "text/markdown": [
       "**House size:** 2,600 sqft"
      ],
      "text/plain": [
       "<IPython.core.display.Markdown object>"
      ]
     },
     "metadata": {},
     "output_type": "display_data"
    },
    {
     "data": {
      "text/markdown": [
       "### **🏘️ Listing 5**"
      ],
      "text/plain": [
       "<IPython.core.display.Markdown object>"
      ]
     },
     "metadata": {},
     "output_type": "display_data"
    },
    {
     "data": {
      "text/markdown": [
       "**About the Property:**\n",
       "\n",
       "Escape the hustle and bustle of the city in this spacious 2500 sqft loft located in the semi-urban neighborhood of Downtown East. This 3-bedroom, 2-bathroom unit boasts a swimming pool, play area, community gym, sports facilities, and a library bus and train nearby. Enjoy the industrial-chic vibe with exposed brick walls, high ceilings, and a chef's kitchen with stainless steel appliances. The open floor plan is perfect for entertaining, while the neighborhood offers a creative and eclectic lifestyle with converted warehouses, art studios, trendy cafes, and easy access to public transportation. Live in style and luxury in this Downtown East gem."
      ],
      "text/plain": [
       "<IPython.core.display.Markdown object>"
      ]
     },
     "metadata": {},
     "output_type": "display_data"
    },
    {
     "data": {
      "text/markdown": [
       "**Details:**"
      ],
      "text/plain": [
       "<IPython.core.display.Markdown object>"
      ]
     },
     "metadata": {},
     "output_type": "display_data"
    },
    {
     "data": {
      "text/markdown": [
       "**Neighborhood:** Downtown East"
      ],
      "text/plain": [
       "<IPython.core.display.Markdown object>"
      ]
     },
     "metadata": {},
     "output_type": "display_data"
    },
    {
     "data": {
      "text/markdown": [
       "**Price:** $750,000"
      ],
      "text/plain": [
       "<IPython.core.display.Markdown object>"
      ]
     },
     "metadata": {},
     "output_type": "display_data"
    },
    {
     "data": {
      "text/markdown": [
       "**Bedrooms:** 3"
      ],
      "text/plain": [
       "<IPython.core.display.Markdown object>"
      ]
     },
     "metadata": {},
     "output_type": "display_data"
    },
    {
     "data": {
      "text/markdown": [
       "**Bathrooms:** 2"
      ],
      "text/plain": [
       "<IPython.core.display.Markdown object>"
      ]
     },
     "metadata": {},
     "output_type": "display_data"
    },
    {
     "data": {
      "text/markdown": [
       "**House size:** 1,800 sqft"
      ],
      "text/plain": [
       "<IPython.core.display.Markdown object>"
      ]
     },
     "metadata": {},
     "output_type": "display_data"
    }
   ],
   "source": [
    "for idx, (original, personalized_text) in enumerate(personalized, 1):\n",
    "    display(Markdown(f\"### **🏘️ Listing {idx}**\"))\n",
    "    display(Markdown(f\"**About the Property:**\\n\\n{personalized_text}\"))\n",
    "    display(Markdown(\"**Details:**\"))\n",
    "    for key in [\"neighborhood\", \"price\", \"bedrooms\", \"bathrooms\", \"house_size\"]:\n",
    "        display(Markdown(f\"**{key.capitalize().replace('_', ' ')}:** {original.get(key, 'N/A')}\"))"
   ]
  }
 ],
 "metadata": {
  "kernelspec": {
   "display_name": "Python 3",
   "language": "python",
   "name": "python3"
  },
  "language_info": {
   "codemirror_mode": {
    "name": "ipython",
    "version": 3
   },
   "file_extension": ".py",
   "mimetype": "text/x-python",
   "name": "python",
   "nbconvert_exporter": "python",
   "pygments_lexer": "ipython3",
   "version": "3.12.1"
  }
 },
 "nbformat": 4,
 "nbformat_minor": 5
}
